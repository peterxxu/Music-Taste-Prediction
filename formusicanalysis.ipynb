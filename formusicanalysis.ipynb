{
 "cells": [
  {
   "cell_type": "code",
   "execution_count": null,
   "metadata": {},
   "outputs": [],
   "source": [
    "import pandas as pd"
   ]
  },
  {
   "cell_type": "code",
   "execution_count": null,
   "metadata": {
    "scrolled": true
   },
   "outputs": [],
   "source": [
    "df = pd.read_csv('fma_tracks.csv', low_memory=False)\n",
    "df"
   ]
  },
  {
   "cell_type": "code",
   "execution_count": 1,
   "metadata": {},
   "outputs": [],
   "source": [
    "import matplotlib.pyplot as plt\n",
    "import numpy as np\n",
    "import pandas as pd\n",
    "from sklearn.neural_network import MLPClassifier\n",
    "from sklearn.model_selection import train_test_split\n",
    "from sklearn.preprocessing import MinMaxScaler"
   ]
  },
  {
   "cell_type": "code",
   "execution_count": 2,
   "metadata": {},
   "outputs": [],
   "source": [
    "full_data = pd.read_csv('fma_tracks.csv', low_memory=False)\n",
    "# Scale all numeric columns into [0,1] except for \"track_id\"\n",
    "numeric_data = full_data.select_dtypes(include='number').drop(columns='track_id')"
   ]
  },
  {
   "cell_type": "code",
   "execution_count": 3,
   "metadata": {},
   "outputs": [
    {
     "name": "stdout",
     "output_type": "stream",
     "text": [
      "Liked 44/110 tracks\n"
     ]
    }
   ],
   "source": [
    "ratings = pd.read_csv('likes.csv', low_memory=False)\n",
    "# Remove some uninteresting features\n",
    "input_features = set(numeric_data.columns) - {'artist_latitude', 'artist_longitude', 'latitude', 'longitude',\n",
    "                                             'comments', 'comments.1', 'comments.2', 'duration', 'favorites',\n",
    "                                             'favorites.1', 'favorites.2', 'id', 'id.1', 'interest', 'listens',\n",
    "                                             'number', 'tracks', 'Unnamed: 53'}\n",
    "# Remove the often-empty rankings\n",
    "input_features = [feature for feature in input_features if 'rank' not in feature]\n",
    "output_features = ['like']\n",
    "# Merge like column into track info\n",
    "full_ratings = pd.merge(full_data, ratings[['track_id']+output_features], on='track_id', how='inner')\n",
    "# Use only the chosen features, and drop any rows with *any* empty values for those features\n",
    "train = full_ratings[input_features+output_features].dropna()\n",
    "print(f'Liked {len(train[train[\"like\"] == 1])}/{len(train)} tracks')"
   ]
  },
  {
   "cell_type": "code",
   "execution_count": 4,
   "metadata": {},
   "outputs": [],
   "source": [
    "# provided settings\n",
    "max_iter = 1000\n",
    "settings = [{'hidden_layer_sizes': (100,), 'activation': 'logistic', 'solver': 'sgd', 'learning_rate': 'constant',\n",
    "             'learning_rate_init': 0.001, 'momentum': 0.9, 'tol': 1e-4, 'early_stopping': False},\n",
    "            {'hidden_layer_sizes': (1000,), 'activation': 'logistic', 'solver': 'sgd', 'learning_rate': 'constant',\n",
    "             'learning_rate_init': 0.001, 'momentum': 0.9, 'tol': 1e-4, 'early_stopping': False},\n",
    "           ]"
   ]
  },
  {
   "cell_type": "markdown",
   "metadata": {},
   "source": [
    "<h3>Section 1: Just Some Experiment</h3>"
   ]
  },
  {
   "cell_type": "code",
   "execution_count": 5,
   "metadata": {},
   "outputs": [],
   "source": [
    "# trial 1: keep max_iter to be 1000 and give more sets of parameters\n",
    "max_iter = 1000\n",
    "settings = [{'hidden_layer_sizes': (100,), 'activation': 'logistic', 'solver': 'sgd', 'learning_rate': 'constant',\n",
    "             'learning_rate_init': 0.001, 'momentum': 0.9, 'tol': 1e-4, 'early_stopping': False},\n",
    "            {'hidden_layer_sizes': (200,), 'activation': 'relu', 'solver': 'sgd', 'learning_rate': 'constant',\n",
    "             'learning_rate_init': 0.001, 'momentum': 0.9, 'tol': 1e-4, 'early_stopping': False},\n",
    "            {'hidden_layer_sizes': (300,), 'activation': 'relu', 'solver': 'adam', 'learning_rate': 'constant',\n",
    "             'learning_rate_init': 0.001, 'momentum': 0.9, 'tol': 1e-4, 'early_stopping': False},\n",
    "            {'hidden_layer_sizes': (400,), 'activation': 'tanh', 'solver': 'adam', 'learning_rate': 'adaptive',\n",
    "             'learning_rate_init': 0.001, 'momentum': 0.9, 'tol': 1e-4, 'early_stopping': False},\n",
    "            {'hidden_layer_sizes': (500,), 'activation': 'tanh', 'solver': 'sgd', 'learning_rate': 'adaptive',\n",
    "             'learning_rate_init': 0.001, 'momentum': 0.9, 'tol': 1e-4, 'early_stopping': False},\n",
    "           ]"
   ]
  },
  {
   "cell_type": "code",
   "execution_count": 8,
   "metadata": {},
   "outputs": [],
   "source": [
    "# trial 2: let max_iter be 200 and also try different sets of parameters\n",
    "max_iter = 200\n",
    "settings = [{'hidden_layer_sizes': (600,), 'activation': 'logistic', 'solver': 'sgd', 'learning_rate': 'constant',\n",
    "             'learning_rate_init': 0.001, 'momentum': 0.9, 'tol': 1e-4, 'early_stopping': False},\n",
    "            {'hidden_layer_sizes': (700,), 'activation': 'relu', 'solver': 'sgd', 'learning_rate': 'constant',\n",
    "             'learning_rate_init': 0.001, 'momentum': 0.9, 'tol': 1e-4, 'early_stopping': False},\n",
    "            {'hidden_layer_sizes': (800,), 'activation': 'relu', 'solver': 'adam', 'learning_rate': 'constant',\n",
    "             'learning_rate_init': 0.001, 'momentum': 0.9, 'tol': 1e-4, 'early_stopping': False},\n",
    "            {'hidden_layer_sizes': (900,), 'activation': 'tanh', 'solver': 'adam', 'learning_rate': 'adaptive',\n",
    "             'learning_rate_init': 0.001, 'momentum': 0.9, 'tol': 1e-4, 'early_stopping': False},\n",
    "            {'hidden_layer_sizes': (1000,), 'activation': 'tanh', 'solver': 'sgd', 'learning_rate': 'adaptive',\n",
    "             'learning_rate_init': 0.001, 'momentum': 0.9, 'tol': 1e-4, 'early_stopping': False},\n",
    "           ]"
   ]
  },
  {
   "cell_type": "code",
   "execution_count": 11,
   "metadata": {},
   "outputs": [],
   "source": [
    "# trial 3: let max_iter be 200 and change adam solvers to lbfgs because adam works well on larger datasets according to document\n",
    "max_iter = 200\n",
    "settings = [{'hidden_layer_sizes': (600,), 'activation': 'logistic', 'solver': 'sgd', 'learning_rate': 'constant',\n",
    "             'learning_rate_init': 0.001, 'momentum': 0.9, 'tol': 1e-4, 'early_stopping': False},\n",
    "            {'hidden_layer_sizes': (700,), 'activation': 'relu', 'solver': 'sgd', 'learning_rate': 'constant',\n",
    "             'learning_rate_init': 0.001, 'momentum': 0.9, 'tol': 1e-4, 'early_stopping': False},\n",
    "            {'hidden_layer_sizes': (800,), 'activation': 'relu', 'solver': 'lbfgs', 'learning_rate': 'constant',\n",
    "             'learning_rate_init': 0.001, 'momentum': 0.9, 'tol': 1e-4, 'early_stopping': False},\n",
    "            {'hidden_layer_sizes': (900,), 'activation': 'tanh', 'solver': 'lbfgs', 'learning_rate': 'adaptive',\n",
    "             'learning_rate_init': 0.001, 'momentum': 0.9, 'tol': 1e-4, 'early_stopping': False},\n",
    "            {'hidden_layer_sizes': (1000,), 'activation': 'tanh', 'solver': 'sgd', 'learning_rate': 'adaptive',\n",
    "             'learning_rate_init': 0.001, 'momentum': 0.9, 'tol': 1e-4, 'early_stopping': False},\n",
    "           ]"
   ]
  },
  {
   "cell_type": "code",
   "execution_count": 14,
   "metadata": {},
   "outputs": [],
   "source": [
    "# trial 4: let max_iter be 200 and keep solver to be sgd because adam and lbfgs does seem to work well here\n",
    "max_iter = 200\n",
    "settings = [{'hidden_layer_sizes': (600,), 'activation': 'logistic', 'solver': 'sgd', 'learning_rate': 'constant',\n",
    "             'learning_rate_init': 0.001, 'momentum': 0.9, 'tol': 1e-4, 'early_stopping': False},\n",
    "            {'hidden_layer_sizes': (700,), 'activation': 'relu', 'solver': 'sgd', 'learning_rate': 'constant',\n",
    "             'learning_rate_init': 0.001, 'momentum': 0.9, 'tol': 1e-4, 'early_stopping': False},\n",
    "            {'hidden_layer_sizes': (800,), 'activation': 'relu', 'solver': 'sgd', 'learning_rate': 'constant',\n",
    "             'learning_rate_init': 0.001, 'momentum': 0.9, 'tol': 1e-4, 'early_stopping': False},\n",
    "            {'hidden_layer_sizes': (900,), 'activation': 'tanh', 'solver': 'sgd', 'learning_rate': 'adaptive',\n",
    "             'learning_rate_init': 0.001, 'momentum': 0.9, 'tol': 1e-4, 'early_stopping': False},\n",
    "            {'hidden_layer_sizes': (1000,), 'activation': 'tanh', 'solver': 'sgd', 'learning_rate': 'adaptive',\n",
    "             'learning_rate_init': 0.001, 'momentum': 0.9, 'tol': 1e-4, 'early_stopping': False},\n",
    "           ]"
   ]
  },
  {
   "cell_type": "markdown",
   "metadata": {},
   "source": [
    "<h3>Section 2: Experimenting with Logistic Activation</h3>\n",
    "<h5>After experimenting with different parameter combinations, I found that logistic activation is more stable than other activation functions, and I believe it's because we have binary output space</h5>"
   ]
  },
  {
   "cell_type": "code",
   "execution_count": 17,
   "metadata": {},
   "outputs": [],
   "source": [
    "# trial 1: keep max_iter to be 200 and trial on solver\n",
    "max_iter = 200\n",
    "settings = [{'hidden_layer_sizes': (200,), 'activation': 'logistic', 'solver': 'sgd', 'learning_rate': 'constant',\n",
    "             'learning_rate_init': 0.001, 'momentum': 0.9, 'tol': 1e-4, 'early_stopping': False},\n",
    "            {'hidden_layer_sizes': (400,), 'activation': 'logistic', 'solver': 'sgd', 'learning_rate': 'constant',\n",
    "             'learning_rate_init': 0.001, 'momentum': 0.9, 'tol': 1e-4, 'early_stopping': False},\n",
    "            {'hidden_layer_sizes': (600,), 'activation': 'logistic', 'solver': 'adam', 'learning_rate': 'constant',\n",
    "             'learning_rate_init': 0.001, 'momentum': 0.9, 'tol': 1e-4, 'early_stopping': False},\n",
    "            {'hidden_layer_sizes': (800,), 'activation': 'logistic', 'solver': 'lbfgs', 'learning_rate': 'adaptive',\n",
    "             'learning_rate_init': 0.001, 'momentum': 0.9, 'tol': 1e-4, 'early_stopping': False},\n",
    "            {'hidden_layer_sizes': (1000,), 'activation': 'logistic', 'solver': 'sgd', 'learning_rate': 'adaptive',\n",
    "             'learning_rate_init': 0.001, 'momentum': 0.9, 'tol': 1e-4, 'early_stopping': False},\n",
    "           ]"
   ]
  },
  {
   "cell_type": "code",
   "execution_count": 20,
   "metadata": {},
   "outputs": [],
   "source": [
    "# trial 2: keep max_iter to be 500 and solver to be sgd, try different learning rates and momentums\n",
    "max_iter = 500\n",
    "settings = [{'hidden_layer_sizes': (200,), 'activation': 'logistic', 'solver': 'sgd', 'learning_rate': 'constant',\n",
    "             'learning_rate_init': 0.001, 'momentum': 0.9, 'tol': 1e-4, 'early_stopping': False},\n",
    "            {'hidden_layer_sizes': (400,), 'activation': 'logistic', 'solver': 'sgd', 'learning_rate': 'constant',\n",
    "             'learning_rate_init': 0.001, 'momentum': 0.8, 'tol': 1e-4, 'early_stopping': False},\n",
    "            {'hidden_layer_sizes': (600,), 'activation': 'logistic', 'solver': 'sgd', 'learning_rate': 'constant',\n",
    "             'learning_rate_init': 0.001, 'momentum': 0.7, 'tol': 1e-4, 'early_stopping': False},\n",
    "            {'hidden_layer_sizes': (800,), 'activation': 'logistic', 'solver': 'sgd', 'learning_rate': 'adaptive',\n",
    "             'learning_rate_init': 0.001, 'momentum': 0.9, 'tol': 1e-4, 'early_stopping': False},\n",
    "            {'hidden_layer_sizes': (1000,), 'activation': 'logistic', 'solver': 'sgd', 'learning_rate': 'adaptive',\n",
    "             'learning_rate_init': 0.001, 'momentum': 0.8, 'tol': 1e-4, 'early_stopping': False},\n",
    "           ]"
   ]
  },
  {
   "cell_type": "code",
   "execution_count": 23,
   "metadata": {},
   "outputs": [],
   "source": [
    "# trial 3: keep max_iter to be 1000, sgd solver, and constant learning rate but with smaller tolerance\n",
    "max_iter = 1000\n",
    "settings = [{'hidden_layer_sizes': (200,), 'activation': 'logistic', 'solver': 'sgd', 'learning_rate': 'constant',\n",
    "             'learning_rate_init': 0.001, 'momentum': 0.9, 'tol': 1e-6, 'early_stopping': False},\n",
    "            {'hidden_layer_sizes': (400,), 'activation': 'logistic', 'solver': 'sgd', 'learning_rate': 'constant',\n",
    "             'learning_rate_init': 0.001, 'momentum': 0.9, 'tol': 1e-7, 'early_stopping': False},\n",
    "            {'hidden_layer_sizes': (600,), 'activation': 'logistic', 'solver': 'sgd', 'learning_rate': 'constant',\n",
    "             'learning_rate_init': 0.001, 'momentum': 0.9, 'tol': 1e-8, 'early_stopping': False},\n",
    "            {'hidden_layer_sizes': (800,), 'activation': 'logistic', 'solver': 'sgd', 'learning_rate': 'constant',\n",
    "             'learning_rate_init': 0.001, 'momentum': 0.9, 'tol': 1e-9, 'early_stopping': False},\n",
    "            {'hidden_layer_sizes': (1000,), 'activation': 'logistic', 'solver': 'sgd', 'learning_rate': 'constant',\n",
    "             'learning_rate_init': 0.001, 'momentum': 0.9, 'tol': 1e-9, 'early_stopping': False},\n",
    "           ]"
   ]
  },
  {
   "cell_type": "markdown",
   "metadata": {},
   "source": [
    "<h3>Section 3: Trying the find a set of parameters with loss as small as possible</h3>\n",
    "<h5>After previous experimentations, I found that MLPs with more hidden layers, logistic activation, sgd solver, constant learning rate, and small tolerance seem to perform better. Here I will do a final set of experimentations to see if I can find a minimum loss</h5>"
   ]
  },
  {
   "cell_type": "code",
   "execution_count": 26,
   "metadata": {},
   "outputs": [],
   "source": [
    "# trial 1: keep max_iter to be 1000, sgd solver, and constant learning rate, smaller tolerance, and make learning step smaller\n",
    "max_iter = 1000\n",
    "settings = [{'hidden_layer_sizes': (200,), 'activation': 'logistic', 'solver': 'sgd', 'learning_rate': 'constant',\n",
    "             'learning_rate_init': 0.0005, 'momentum': 0.9, 'tol': 1e-8, 'early_stopping': False},\n",
    "            {'hidden_layer_sizes': (400,), 'activation': 'logistic', 'solver': 'sgd', 'learning_rate': 'constant',\n",
    "             'learning_rate_init': 0.0005, 'momentum': 0.9, 'tol': 1e-8, 'early_stopping': False},\n",
    "            {'hidden_layer_sizes': (600,), 'activation': 'logistic', 'solver': 'sgd', 'learning_rate': 'constant',\n",
    "             'learning_rate_init': 0.0005, 'momentum': 0.9, 'tol': 1e-8, 'early_stopping': False},\n",
    "            {'hidden_layer_sizes': (800,), 'activation': 'logistic', 'solver': 'sgd', 'learning_rate': 'constant',\n",
    "             'learning_rate_init': 0.0005, 'momentum': 0.9, 'tol': 1e-8, 'early_stopping': False},\n",
    "            {'hidden_layer_sizes': (1000,), 'activation': 'logistic', 'solver': 'sgd', 'learning_rate': 'constant',\n",
    "             'learning_rate_init': 0.0005, 'momentum': 0.9, 'tol': 1e-8, 'early_stopping': False},\n",
    "           ]"
   ]
  },
  {
   "cell_type": "code",
   "execution_count": 29,
   "metadata": {},
   "outputs": [],
   "source": [
    "# trial 2: keep max_iter to be 1000, sgd solver, and constant learning rate, smaller tolerance, change momentum\n",
    "max_iter = 1000\n",
    "settings = [{'hidden_layer_sizes': (200,), 'activation': 'logistic', 'solver': 'sgd', 'learning_rate': 'constant',\n",
    "             'learning_rate_init': 0.001, 'momentum': 0.8, 'tol': 1e-8, 'early_stopping': False},\n",
    "            {'hidden_layer_sizes': (400,), 'activation': 'logistic', 'solver': 'sgd', 'learning_rate': 'constant',\n",
    "             'learning_rate_init': 0.001, 'momentum': 0.85, 'tol': 1e-8, 'early_stopping': False},\n",
    "            {'hidden_layer_sizes': (600,), 'activation': 'logistic', 'solver': 'sgd', 'learning_rate': 'constant',\n",
    "             'learning_rate_init': 0.001, 'momentum': 0.85, 'tol': 1e-8, 'early_stopping': False},\n",
    "            {'hidden_layer_sizes': (800,), 'activation': 'logistic', 'solver': 'sgd', 'learning_rate': 'constant',\n",
    "             'learning_rate_init': 0.001, 'momentum': 0.95, 'tol': 1e-8, 'early_stopping': False},\n",
    "            {'hidden_layer_sizes': (1000,), 'activation': 'logistic', 'solver': 'sgd', 'learning_rate': 'constant',\n",
    "             'learning_rate_init': 0.001, 'momentum': 0.95, 'tol': 1e-8, 'early_stopping': False},\n",
    "           ]"
   ]
  },
  {
   "cell_type": "markdown",
   "metadata": {},
   "source": [
    "<h3>Conclusion:</h3><h5>With more hidden layers, logistic activation, sgd solver, constant learning rate, and small tolerance, MLP performs better. Smaller step of learning rate does not improve the performance. Higher momentum for sgd result in a smaller loss. Therefore, I conclude my experimentations that with 1000 hideen layers, ogistic activation, sgd solver, constant learning rate, 0.95 momentum, and 1e-8 tolerance has one of the best performances with loss of 0.016</h5>"
   ]
  },
  {
   "cell_type": "code",
   "execution_count": 32,
   "metadata": {},
   "outputs": [],
   "source": [
    "max_iter = 1000\n",
    "settings = [{'hidden_layer_sizes': (200,), 'activation': 'logistic', 'solver': 'sgd', 'learning_rate': 'constant',\n",
    "             'learning_rate_init': 0.001, 'momentum': 0.95, 'tol': 1e-8, 'early_stopping': False},\n",
    "            {'hidden_layer_sizes': (400,), 'activation': 'logistic', 'solver': 'sgd', 'learning_rate': 'constant',\n",
    "             'learning_rate_init': 0.001, 'momentum': 0.95, 'tol': 1e-8, 'early_stopping': False},\n",
    "            {'hidden_layer_sizes': (600,), 'activation': 'logistic', 'solver': 'sgd', 'learning_rate': 'constant',\n",
    "             'learning_rate_init': 0.001, 'momentum': 0.95, 'tol': 1e-8, 'early_stopping': False},\n",
    "            {'hidden_layer_sizes': (800,), 'activation': 'logistic', 'solver': 'sgd', 'learning_rate': 'constant',\n",
    "             'learning_rate_init': 0.001, 'momentum': 0.95, 'tol': 1e-8, 'early_stopping': False},\n",
    "            {'hidden_layer_sizes': (1000,), 'activation': 'logistic', 'solver': 'sgd', 'learning_rate': 'constant',\n",
    "             'learning_rate_init': 0.001, 'momentum': 0.95, 'tol': 1e-8, 'early_stopping': False},\n",
    "           ]"
   ]
  },
  {
   "cell_type": "markdown",
   "metadata": {},
   "source": [
    "<h3> Analysis on warning:</h3><h4>The optimization is not converged when maximum iterations of 1000 is reached. I have tried to increase the number of iterations and the SGD still does not converge. According to the plot, the decrease of loss is insignificant at 1000th iteraion. Therefore, I have kept the max_iter to be 1000 for efficiency.</h4>"
   ]
  },
  {
   "cell_type": "code",
   "execution_count": 33,
   "metadata": {
    "nbgrader": {
     "grade": false,
     "locked": false,
     "solution": false
    },
    "scrolled": false
   },
   "outputs": [
    {
     "name": "stderr",
     "output_type": "stream",
     "text": [
      "/Users/peterxu/Documents/USC/学习/Senior_Spring/DSCI352/venv/lib/python3.11/site-packages/sklearn/neural_network/_multilayer_perceptron.py:684: ConvergenceWarning: Stochastic Optimizer: Maximum iterations (1000) reached and the optimization hasn't converged yet.\n",
      "  warnings.warn(\n",
      "/Users/peterxu/Documents/USC/学习/Senior_Spring/DSCI352/venv/lib/python3.11/site-packages/sklearn/neural_network/_multilayer_perceptron.py:684: ConvergenceWarning: Stochastic Optimizer: Maximum iterations (1000) reached and the optimization hasn't converged yet.\n",
      "  warnings.warn(\n"
     ]
    },
    {
     "data": {
      "image/png": "[encoded data removed]",
      "text/plain": [
       "<Figure size 640x480 with 1 Axes>"
      ]
     },
     "metadata": {},
     "output_type": "display_data"
    }
   ],
   "source": [
    "# Create an MLP for each of our different settings\n",
    "clfs = [MLPClassifier(max_iter=max_iter, **args) for args in settings]\n",
    "# Train each MLP\n",
    "for index, clf in enumerate(clfs):\n",
    "    clf.fit(train[input_features], train[output_features].values.ravel())\n",
    "    plt.plot(clf.loss_curve_, label=str(index))\n",
    "# Customize our plot and display\n",
    "plt.legend()\n",
    "plt.ylim(0, 1)\n",
    "plt.xlim(0, max_iter)\n",
    "plt.show()"
   ]
  },
  {
   "cell_type": "code",
   "execution_count": 34,
   "metadata": {},
   "outputs": [
    {
     "name": "stdout",
     "output_type": "stream",
     "text": [
      "Minimal loss of 0.018440908168421623 achieved with: [('activation', 'logistic'), ('early_stopping', False), ('hidden_layer_sizes', (1000,)), ('learning_rate', 'constant'), ('learning_rate_init', 0.001), ('momentum', 0.95), ('solver', 'sgd'), ('tol', 1e-08)]\n"
     ]
    }
   ],
   "source": [
    "# Choose network with minimimal loss\n",
    "index, best_clf = min([(clf_i[1].loss_, clf_i) for clf_i in enumerate(clfs)])[1]\n",
    "print(f'Minimal loss of {best_clf.loss_} achieved with: {sorted(settings[index].items())}')"
   ]
  },
  {
   "cell_type": "markdown",
   "metadata": {},
   "source": [
    "<h4>Below block tries to run a GridSearch Cross Validation to find the best set of parameters for the MLP. However, the task is too large and the runtime is excessive. Thus, this is just an attempt that is not taken into actual application.</h4>"
   ]
  },
  {
   "cell_type": "code",
   "execution_count": null,
   "metadata": {},
   "outputs": [],
   "source": [
    "### RUNTIME IS EXCESSIVE\n",
    "# try a cross validation\n",
    "from sklearn.model_selection import GridSearchCV\n",
    "X = train.drop(columns='like')\n",
    "y = train['like']\n",
    "X_train, X_test, y_train, y_test = train_test_split(X, y)\n",
    "params_grid = {\n",
    "    'hidden_layer_sizes': [(200,), (400,), (600,), (800,), (1000,)],\n",
    "    'activation': ['logistic', 'relu', 'tanh'],\n",
    "    'solver': ['sgd', 'adam', 'lbfgs'],\n",
    "    'learning_rate': ['constant', 'adaptive'],\n",
    "    'learning_rate_init': [0.0005, 0.001, 0.005],\n",
    "    'momentum': [0.85, 0.9, 0.95],\n",
    "    'tol': [1e-5, 1e-6, 1e-7, 1e-8],\n",
    "}\n",
    "mlp = MLPClassifier(max_iter=1000, early_stopping=False)\n",
    "grid_search = GridSearchCV(mlp, params_grid, cv=5)\n",
    "grid_search.fit(X_train, y_train)\n",
    "print(\"Best hyperparameters: \", grid_search.best_params_)"
   ]
  },
  {
   "cell_type": "code",
   "execution_count": 35,
   "metadata": {},
   "outputs": [
    {
     "name": "stdout",
     "output_type": "stream",
     "text": [
      "temporal_feature_223\n",
      "temporal_feature_131\n",
      "temporal_feature_127\n",
      "temporal_feature_33\n",
      "temporal_feature_53\n",
      "temporal_feature_10\n",
      "temporal_feature_98\n",
      "temporal_feature_66\n",
      "temporal_feature_11\n",
      "temporal_feature_95\n"
     ]
    }
   ],
   "source": [
    "# Examine the links of the chosen MLP (original code assumes only one hidden layer)\n",
    "hidden_coefs, output_coefs = best_clf.coefs_\n",
    "# Each set of coefficients is a matrix over i,j, where i indexes into the input and j the output, for that layer\n",
    "influence = [(sum([abs(hidden_coefs[i][j]*output_coefs[j][0]) for j in range(len(output_coefs))]),\n",
    "              best_clf.feature_names_in_[i]) for i in range(len(hidden_coefs))]\n",
    "top_features = [entry[1] for entry in sorted(influence, reverse=True)[:10]]\n",
    "print('\\n'.join(top_features))"
   ]
  },
  {
   "cell_type": "code",
   "execution_count": 36,
   "metadata": {},
   "outputs": [
    {
     "name": "stdout",
     "output_type": "stream",
     "text": [
      " track_id            artist_name                    title.1\n",
      "    11922              WatFatMan galerie de portraits remix\n",
      "    29480    Falcao and Monashee         Fighting Challenge\n",
      "    11920              WatFatMan                      Ofura\n",
      "    19074                Bell X1         The Great Defector\n",
      "    75389           Kellee Maize          City of Champions\n",
      "    18159 The Friendly Dimension             Just Your Game\n",
      "    35296                  Dntel        Super Antihistamine\n",
      "      200               Ed Askew             Baby Come Home\n",
      "     3910        Michael Chapman               Kodak Ghosts\n",
      "    14653             Brad Sucks                   Bad Sign\n"
     ]
    }
   ],
   "source": [
    "# Prediction represents values over both 0 and 1, so let's find out where 1 is\n",
    "true_index = list(best_clf.classes_).index(1)\n",
    "# If we want only those tracks in fma_small\n",
    "small_data = full_data[full_data['subset'] == 'small']\n",
    "# Remove tracks already rated\n",
    "rated_tracks = set(full_ratings['track_id'])\n",
    "small_data = small_data[small_data.track_id.isin(rated_tracks) == False]\n",
    "# Generated predictions over unrated tracks\n",
    "predictions = [prob[true_index] for prob in best_clf.predict_proba(small_data[input_features])]\n",
    "small_data = small_data.assign(prediction=predictions)\n",
    "# Find top N recommendations\n",
    "top_limit = 10\n",
    "top_tracks = small_data.nlargest(top_limit, 'prediction')\n",
    "print(top_tracks.to_string(columns=['track_id', 'artist_name', 'title.1'], index=False, max_colwidth=40))"
   ]
  },
  {
   "cell_type": "code",
   "execution_count": 37,
   "metadata": {},
   "outputs": [
    {
     "name": "stdout",
     "output_type": "stream",
     "text": [
      "01. Falcao and Monashee\n",
      "\t 29480 Fighting Challenge\n",
      "02. The Friendly Dimension\n",
      "\t 18159 Just Your Game\n",
      "03. Dntel\n",
      "\t 35296 Super Antihistamine\n",
      "04. Soul Celtics\n",
      "\t 17462 Baby With A Bamboo Heart\n",
      "05. Art Boys Collection\n",
      "\t 42475 A 1 Freedom voice of my soul\n",
      "06. The Dead Poets\n",
      "\t 42046 Bottles of Reason\n",
      "07. Seven\n",
      "\t 15210 Go Away\n",
      "08. Empathik\n",
      "\t 12531 Que Le Hip-Hop Renaisse\n",
      "09. DavidBowman\n",
      "\t 11937 Wir können auch anders\n",
      "10. The Lights Galaxia\n",
      "\t 23016 While She Sleeps (Morning Edit)\n"
     ]
    }
   ],
   "source": [
    "top_artists = small_data.groupby('artist_name')['prediction'].mean().nlargest(top_limit)\n",
    "# Print the available tracks for the top N artists\n",
    "for rank, name in enumerate(top_artists.index):\n",
    "    print(f'{rank+1:02d}. {name}')\n",
    "    print('\\t', small_data[small_data['artist_name'] == name][['track_id', 'title.1']].to_string(index=False, header=False).replace('\\n', '\\n\\t '))"
   ]
  },
  {
   "cell_type": "code",
   "execution_count": null,
   "metadata": {},
   "outputs": [],
   "source": []
  }
 ],
 "metadata": {
  "kernelspec": {
   "display_name": "Python 3 (ipykernel)",
   "language": "python",
   "name": "python3"
  },
  "language_info": {
   "codemirror_mode": {
    "name": "ipython",
    "version": 3
   },
   "file_extension": ".py",
   "mimetype": "text/x-python",
   "name": "python",
   "nbconvert_exporter": "python",
   "pygments_lexer": "ipython3",
   "version": "3.11.1"
  }
 },
 "nbformat": 4,
 "nbformat_minor": 2
}
